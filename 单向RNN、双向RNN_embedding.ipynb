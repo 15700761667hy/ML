{
  "nbformat": 4,
  "nbformat_minor": 0,
  "metadata": {
    "colab": {
      "name": "单向RNN、双向RNN-embedding.ipynb",
      "provenance": [],
      "collapsed_sections": []
    },
    "kernelspec": {
      "name": "python3",
      "display_name": "Python 3"
    },
    "accelerator": "GPU"
  },
  "cells": [
    {
      "cell_type": "code",
      "metadata": {
        "colab": {
          "base_uri": "https://localhost:8080/"
        },
        "id": "Cp6W3mxV_H0s",
        "outputId": "a45a4b74-62b0-4e8c-a5cd-b027c58c511e"
      },
      "source": [
        "import matplotlib as mpl\n",
        "import matplotlib.pyplot as plt\n",
        "import numpy as np\n",
        "import pandas as pd\n",
        "import tensorflow as tf\n",
        "from tensorflow import keras\n",
        "import sklearn \n",
        "import os\n",
        "import sys\n",
        "import time\n",
        "\n",
        "print(tf.__version__)\n",
        "print(sys.version_info)\n",
        "for module in mpl,np,pd,sklearn,tf,keras:\n",
        "  print(module.__name__,module.__version__)\n"
      ],
      "execution_count": 3,
      "outputs": [
        {
          "output_type": "stream",
          "text": [
            "2.4.1\n",
            "sys.version_info(major=3, minor=7, micro=10, releaselevel='final', serial=0)\n",
            "matplotlib 3.2.2\n",
            "numpy 1.19.5\n",
            "pandas 1.1.5\n",
            "sklearn 0.22.2.post1\n",
            "tensorflow 2.4.1\n",
            "tensorflow.keras 2.4.0\n"
          ],
          "name": "stdout"
        }
      ]
    },
    {
      "cell_type": "code",
      "metadata": {
        "colab": {
          "base_uri": "https://localhost:8080/"
        },
        "id": "Avqi88lRQFpv",
        "outputId": "12d08ae4-f813-4dde-d1ba-36efba0c6246"
      },
      "source": [
        "imdb=keras.datasets.imdb\n",
        "vocab_size=10000\n",
        "index_from=3\n",
        "(train_data,train_labels),(test_data,test_labels)=imdb.load_data(num_words=vocab_size,index_from=index_from)"
      ],
      "execution_count": 4,
      "outputs": [
        {
          "output_type": "stream",
          "text": [
            "Downloading data from https://storage.googleapis.com/tensorflow/tf-keras-datasets/imdb.npz\n",
            "17465344/17464789 [==============================] - 0s 0us/step\n"
          ],
          "name": "stdout"
        },
        {
          "output_type": "stream",
          "text": [
            "<string>:6: VisibleDeprecationWarning: Creating an ndarray from ragged nested sequences (which is a list-or-tuple of lists-or-tuples-or ndarrays with different lengths or shapes) is deprecated. If you meant to do this, you must specify 'dtype=object' when creating the ndarray\n",
            "/usr/local/lib/python3.7/dist-packages/tensorflow/python/keras/datasets/imdb.py:159: VisibleDeprecationWarning: Creating an ndarray from ragged nested sequences (which is a list-or-tuple of lists-or-tuples-or ndarrays with different lengths or shapes) is deprecated. If you meant to do this, you must specify 'dtype=object' when creating the ndarray\n",
            "  x_train, y_train = np.array(xs[:idx]), np.array(labels[:idx])\n",
            "/usr/local/lib/python3.7/dist-packages/tensorflow/python/keras/datasets/imdb.py:160: VisibleDeprecationWarning: Creating an ndarray from ragged nested sequences (which is a list-or-tuple of lists-or-tuples-or ndarrays with different lengths or shapes) is deprecated. If you meant to do this, you must specify 'dtype=object' when creating the ndarray\n",
            "  x_test, y_test = np.array(xs[idx:]), np.array(labels[idx:])\n"
          ],
          "name": "stderr"
        }
      ]
    },
    {
      "cell_type": "code",
      "metadata": {
        "colab": {
          "base_uri": "https://localhost:8080/"
        },
        "id": "dhZI7k2wQl57",
        "outputId": "b9ed3f64-d208-4869-a7ea-8eeac5a16de3"
      },
      "source": [
        "word_index=imdb.get_word_index()\n",
        "print(len(word_index))"
      ],
      "execution_count": 5,
      "outputs": [
        {
          "output_type": "stream",
          "text": [
            "Downloading data from https://storage.googleapis.com/tensorflow/tf-keras-datasets/imdb_word_index.json\n",
            "1646592/1641221 [==============================] - 0s 0us/step\n",
            "88584\n"
          ],
          "name": "stdout"
        }
      ]
    },
    {
      "cell_type": "code",
      "metadata": {
        "id": "QDCDpyUHRMqt"
      },
      "source": [
        "word_index={k:(v+3) for k,v in word_index.items()}"
      ],
      "execution_count": 6,
      "outputs": []
    },
    {
      "cell_type": "code",
      "metadata": {
        "colab": {
          "base_uri": "https://localhost:8080/",
          "height": 187
        },
        "id": "fWbFN91hRg06",
        "outputId": "fbd9e16f-eefd-4986-a357-070bb253c404"
      },
      "source": [
        "word_index['<PAD>']=0\n",
        "word_index['<START>']=1\n",
        "word_index['<UNK>']=2\n",
        "word_index['<END>']=3\n",
        "\n",
        "reverse_word_index=dict([\n",
        "    (value,key) for key,value in word_index.items()\n",
        "])\n",
        "\n",
        "def decode_review(text_ids):\n",
        "    return ' '.join([reverse_word_index.get(word_id,'<UNK>') for word_id in text_ids])\n",
        "\n",
        "decode_review(train_data[0])"
      ],
      "execution_count": 7,
      "outputs": [
        {
          "output_type": "execute_result",
          "data": {
            "application/vnd.google.colaboratory.intrinsic+json": {
              "type": "string"
            },
            "text/plain": [
              "\"<START> this film was just brilliant casting location scenery story direction everyone's really suited the part they played and you could just imagine being there robert <UNK> is an amazing actor and now the same being director <UNK> father came from the same scottish island as myself so i loved the fact there was a real connection with this film the witty remarks throughout the film were great it was just brilliant so much that i bought the film as soon as it was released for <UNK> and would recommend it to everyone to watch and the fly fishing was amazing really cried at the end it was so sad and you know what they say if you cry at a film it must have been good and this definitely was also <UNK> to the two little boy's that played the <UNK> of norman and paul they were just brilliant children are often left out of the <UNK> list i think because the stars that play them all grown up are such a big profile for the whole film but these children are amazing and should be praised for what they have done don't you think the whole story was so lovely because it was true and was someone's life after all that was shared with us all\""
            ]
          },
          "metadata": {
            "tags": []
          },
          "execution_count": 7
        }
      ]
    },
    {
      "cell_type": "code",
      "metadata": {
        "colab": {
          "base_uri": "https://localhost:8080/"
        },
        "id": "nw0O943L34x0",
        "outputId": "56e91813-0e55-40c2-99b5-563430dde360"
      },
      "source": [
        "max_length=500\n",
        "\n",
        "train_data=keras.preprocessing.sequence.pad_sequences(\n",
        "    train_data,value=word_index['<PAD>'],\n",
        "    padding='post',maxlen=max_length\n",
        ")\n",
        "\n",
        "test_data=keras.preprocessing.sequence.pad_sequences(\n",
        "    test_data,value=word_index['<PAD>'],\n",
        "    padding='post',maxlen=max_length\n",
        ")\n",
        "\n",
        "print(train_data[0])"
      ],
      "execution_count": 8,
      "outputs": [
        {
          "output_type": "stream",
          "text": [
            "[   1   14   22   16   43  530  973 1622 1385   65  458 4468   66 3941\n",
            "    4  173   36  256    5   25  100   43  838  112   50  670    2    9\n",
            "   35  480  284    5  150    4  172  112  167    2  336  385   39    4\n",
            "  172 4536 1111   17  546   38   13  447    4  192   50   16    6  147\n",
            " 2025   19   14   22    4 1920 4613  469    4   22   71   87   12   16\n",
            "   43  530   38   76   15   13 1247    4   22   17  515   17   12   16\n",
            "  626   18    2    5   62  386   12    8  316    8  106    5    4 2223\n",
            " 5244   16  480   66 3785   33    4  130   12   16   38  619    5   25\n",
            "  124   51   36  135   48   25 1415   33    6   22   12  215   28   77\n",
            "   52    5   14  407   16   82    2    8    4  107  117 5952   15  256\n",
            "    4    2    7 3766    5  723   36   71   43  530  476   26  400  317\n",
            "   46    7    4    2 1029   13  104   88    4  381   15  297   98   32\n",
            " 2071   56   26  141    6  194 7486   18    4  226   22   21  134  476\n",
            "   26  480    5  144   30 5535   18   51   36   28  224   92   25  104\n",
            "    4  226   65   16   38 1334   88   12   16  283    5   16 4472  113\n",
            "  103   32   15   16 5345   19  178   32    0    0    0    0    0    0\n",
            "    0    0    0    0    0    0    0    0    0    0    0    0    0    0\n",
            "    0    0    0    0    0    0    0    0    0    0    0    0    0    0\n",
            "    0    0    0    0    0    0    0    0    0    0    0    0    0    0\n",
            "    0    0    0    0    0    0    0    0    0    0    0    0    0    0\n",
            "    0    0    0    0    0    0    0    0    0    0    0    0    0    0\n",
            "    0    0    0    0    0    0    0    0    0    0    0    0    0    0\n",
            "    0    0    0    0    0    0    0    0    0    0    0    0    0    0\n",
            "    0    0    0    0    0    0    0    0    0    0    0    0    0    0\n",
            "    0    0    0    0    0    0    0    0    0    0    0    0    0    0\n",
            "    0    0    0    0    0    0    0    0    0    0    0    0    0    0\n",
            "    0    0    0    0    0    0    0    0    0    0    0    0    0    0\n",
            "    0    0    0    0    0    0    0    0    0    0    0    0    0    0\n",
            "    0    0    0    0    0    0    0    0    0    0    0    0    0    0\n",
            "    0    0    0    0    0    0    0    0    0    0    0    0    0    0\n",
            "    0    0    0    0    0    0    0    0    0    0    0    0    0    0\n",
            "    0    0    0    0    0    0    0    0    0    0    0    0    0    0\n",
            "    0    0    0    0    0    0    0    0    0    0    0    0    0    0\n",
            "    0    0    0    0    0    0    0    0    0    0    0    0    0    0\n",
            "    0    0    0    0    0    0    0    0    0    0    0    0    0    0\n",
            "    0    0    0    0    0    0    0    0    0    0]\n"
          ],
          "name": "stdout"
        }
      ]
    },
    {
      "cell_type": "code",
      "metadata": {
        "colab": {
          "base_uri": "https://localhost:8080/"
        },
        "id": "cZdbvb_m_U4u",
        "outputId": "0469b410-c788-4f41-a406-ea9ffde72310"
      },
      "source": [
        "embedding_dim=16\n",
        "batch_size=512\n",
        "# 把DNN的全局平均换成单向RNN，时间变长，不断修改效果变好\n",
        "# return_sequences:Boolean. Whether to return the last output in the output sequence, or the full sequence 文本生成、机器翻译是要返回所有序列的True,只要最后一个序列False\n",
        "single_rnn_model=keras.models.Sequential([\n",
        "          keras.layers.Embedding(vocab_size,embedding_dim,input_length=max_length),\n",
        "          keras.layers.SimpleRNN(units=64,return_sequences=False),\n",
        "          # w=64,b=64\n",
        "          keras.layers.Dense(64,activation='relu'),\n",
        "          keras.layers.Dense(1,activation='sigmoid'),\n",
        "])\n",
        "\n",
        "single_rnn_model.summary()\n",
        "single_rnn_model.compile(optimizer='adam',loss='binary_crossentropy',metrics=['accuracy'])\n",
        "\n",
        "# 全连接层参数是4160 wx+b:x是一维的64"
      ],
      "execution_count": 9,
      "outputs": [
        {
          "output_type": "stream",
          "text": [
            "Model: \"sequential\"\n",
            "_________________________________________________________________\n",
            "Layer (type)                 Output Shape              Param #   \n",
            "=================================================================\n",
            "embedding (Embedding)        (None, 500, 16)           160000    \n",
            "_________________________________________________________________\n",
            "simple_rnn (SimpleRNN)       (None, 64)                5184      \n",
            "_________________________________________________________________\n",
            "dense (Dense)                (None, 64)                4160      \n",
            "_________________________________________________________________\n",
            "dense_1 (Dense)              (None, 1)                 65        \n",
            "=================================================================\n",
            "Total params: 169,409\n",
            "Trainable params: 169,409\n",
            "Non-trainable params: 0\n",
            "_________________________________________________________________\n"
          ],
          "name": "stdout"
        }
      ]
    },
    {
      "cell_type": "code",
      "metadata": {
        "colab": {
          "base_uri": "https://localhost:8080/"
        },
        "id": "zZT90BmZ8Lp0",
        "outputId": "b3b3aed8-7bfd-4847-df62-472ba7cdd2a6"
      },
      "source": [
        "single_rnn_model.variables"
      ],
      "execution_count": 11,
      "outputs": [
        {
          "output_type": "execute_result",
          "data": {
            "text/plain": [
              "[<tf.Variable 'embedding/embeddings:0' shape=(10000, 16) dtype=float32, numpy=\n",
              " array([[ 0.00449119,  0.02070686,  0.0068997 , ...,  0.04604297,\n",
              "         -0.04984387,  0.06260156],\n",
              "        [-0.0305026 ,  0.03772903, -0.05363964, ...,  0.00419609,\n",
              "         -0.08837022,  0.04351112],\n",
              "        [-0.01304926, -0.00365975, -0.05816461, ...,  0.0539581 ,\n",
              "         -0.01265259,  0.01860697],\n",
              "        ...,\n",
              "        [ 0.09478447,  0.03250819, -0.05579041, ..., -0.02697128,\n",
              "          0.04991122,  0.02115705],\n",
              "        [ 0.05750418, -0.04341195, -0.01529558, ..., -0.00182977,\n",
              "          0.05234963,  0.10446138],\n",
              "        [-0.00569711,  0.04980104,  0.0848233 , ..., -0.02797576,\n",
              "         -0.06425454,  0.12084451]], dtype=float32)>,\n",
              " <tf.Variable 'simple_rnn/simple_rnn_cell/kernel:0' shape=(16, 64) dtype=float32, numpy=\n",
              " array([[ 0.21597962,  0.10397592, -0.30522588, ...,  0.25914383,\n",
              "         -0.21137181,  0.17291579],\n",
              "        [-0.25902036,  0.14830989,  0.106616  , ..., -0.07380576,\n",
              "         -0.08198777,  0.04225682],\n",
              "        [-0.09825538, -0.09462421, -0.36042497, ..., -0.19048293,\n",
              "          0.16304246, -0.14850019],\n",
              "        ...,\n",
              "        [ 0.10414568,  0.3033103 , -0.10640528, ...,  0.0789783 ,\n",
              "          0.13162573, -0.17684518],\n",
              "        [-0.09528022, -0.20022032, -0.0572542 , ..., -0.12790978,\n",
              "          0.1012108 ,  0.33080816],\n",
              "        [ 0.05122802, -0.07902629, -0.36119938, ..., -0.05510527,\n",
              "          0.23534173, -0.02363724]], dtype=float32)>,\n",
              " <tf.Variable 'simple_rnn/simple_rnn_cell/recurrent_kernel:0' shape=(64, 64) dtype=float32, numpy=\n",
              " array([[ 0.16850297,  0.1354558 ,  0.12675856, ..., -0.03980245,\n",
              "          0.21263519,  0.0679331 ],\n",
              "        [ 0.0456703 , -0.13601616, -0.18358557, ...,  0.05646367,\n",
              "          0.23417853, -0.21818028],\n",
              "        [-0.05878184, -0.09561481, -0.06913591, ..., -0.05446937,\n",
              "          0.06822522,  0.26953778],\n",
              "        ...,\n",
              "        [-0.07260278,  0.2804056 ,  0.15563098, ...,  0.09746338,\n",
              "          0.304308  ,  0.01770952],\n",
              "        [-0.01336119,  0.02163917, -0.05739302, ..., -0.10502085,\n",
              "          0.17039278, -0.07421704],\n",
              "        [ 0.08272263,  0.12488255,  0.20748572, ..., -0.08845308,\n",
              "          0.09144174,  0.13403556]], dtype=float32)>,\n",
              " <tf.Variable 'simple_rnn/simple_rnn_cell/bias:0' shape=(64,) dtype=float32, numpy=\n",
              " array([-0.01245577, -0.04357735, -0.04555933, -0.02021779, -0.02472925,\n",
              "         0.04304315, -0.03803674, -0.03292206, -0.01059231,  0.02735421,\n",
              "         0.0076589 , -0.0143895 ,  0.02557273,  0.00846258,  0.03670688,\n",
              "         0.03330375,  0.00871851,  0.04250795, -0.03602549, -0.01762581,\n",
              "         0.00795917,  0.00453546, -0.03172298, -0.00830217,  0.04017246,\n",
              "        -0.00027375,  0.03227409,  0.07835176, -0.00248457,  0.02050721,\n",
              "         0.01952294,  0.02822087, -0.04295759,  0.01746287, -0.01702105,\n",
              "        -0.00027104, -0.0533622 ,  0.01239563,  0.0140622 , -0.01219296,\n",
              "         0.03817109,  0.00253127, -0.02931289, -0.01608992,  0.0151552 ,\n",
              "         0.05164069,  0.00076774,  0.06541668,  0.00361293,  0.05390869,\n",
              "         0.04632431,  0.02000353,  0.01351406,  0.02360437, -0.01660365,\n",
              "         0.03942531, -0.06268102,  0.02808493, -0.01159518,  0.01593309,\n",
              "         0.03251611, -0.01922277, -0.02503872, -0.01319833], dtype=float32)>,\n",
              " <tf.Variable 'dense/kernel:0' shape=(64, 64) dtype=float32, numpy=\n",
              " array([[ 0.11656292,  0.01138337, -0.14442973, ...,  0.26698425,\n",
              "         -0.00693437,  0.28290382],\n",
              "        [ 0.15556085, -0.12994762, -0.04351363, ..., -0.1414546 ,\n",
              "         -0.2119004 , -0.18932322],\n",
              "        [ 0.00583849, -0.01506654,  0.29543677, ..., -0.08343796,\n",
              "         -0.18305741, -0.34700668],\n",
              "        ...,\n",
              "        [-0.1420167 ,  0.04205937, -0.22530203, ...,  0.0270173 ,\n",
              "          0.2748652 ,  0.16855477],\n",
              "        [ 0.15901633,  0.26976436,  0.28747123, ..., -0.10855083,\n",
              "          0.06051485,  0.02314676],\n",
              "        [ 0.12339795,  0.00950786, -0.32760632, ...,  0.14520109,\n",
              "          0.12313396, -0.05267014]], dtype=float32)>,\n",
              " <tf.Variable 'dense/bias:0' shape=(64,) dtype=float32, numpy=\n",
              " array([-0.00861878,  0.00150477, -0.0059128 ,  0.07167085, -0.02905203,\n",
              "        -0.01435909,  0.02132638,  0.01724832, -0.03803254, -0.0175654 ,\n",
              "        -0.01777789,  0.0240299 , -0.05044693, -0.01437696,  0.02319163,\n",
              "        -0.0230519 , -0.00823536, -0.02765911,  0.00881389, -0.01024931,\n",
              "        -0.00142991, -0.0027839 ,  0.0026099 , -0.04771459, -0.00763525,\n",
              "         0.011268  , -0.00502704,  0.00970455, -0.03082154,  0.00135573,\n",
              "         0.09865108, -0.03001454,  0.01698407,  0.05934698,  0.03127598,\n",
              "        -0.01541766, -0.00281104, -0.0112587 ,  0.03677925,  0.02006509,\n",
              "        -0.00463066,  0.0018552 ,  0.0083847 , -0.01299062, -0.02366535,\n",
              "         0.01558021, -0.00394398, -0.01616967, -0.01992922,  0.05209748,\n",
              "         0.01497166,  0.03485933,  0.02868302, -0.0199046 ,  0.00797091,\n",
              "        -0.01642292, -0.00511136, -0.02265748,  0.03963351,  0.00366167,\n",
              "         0.00936026,  0.04154238,  0.03029069,  0.0162387 ], dtype=float32)>,\n",
              " <tf.Variable 'dense_1/kernel:0' shape=(64, 1) dtype=float32, numpy=\n",
              " array([[-1.5016231e-01],\n",
              "        [ 1.0005411e-01],\n",
              "        [ 4.8176727e-01],\n",
              "        [-3.6777988e-01],\n",
              "        [ 1.9744265e-01],\n",
              "        [-1.0645176e-02],\n",
              "        [ 2.0715591e-01],\n",
              "        [ 8.3034687e-02],\n",
              "        [ 2.4948814e-03],\n",
              "        [ 8.7226227e-02],\n",
              "        [-6.7815632e-02],\n",
              "        [-1.1733506e-01],\n",
              "        [-9.7173050e-02],\n",
              "        [ 1.4333066e-01],\n",
              "        [ 3.7688446e-01],\n",
              "        [ 1.6318333e-03],\n",
              "        [ 1.2362457e-01],\n",
              "        [-1.6279536e-01],\n",
              "        [-2.8939396e-01],\n",
              "        [-1.8700816e-01],\n",
              "        [ 2.7238497e-01],\n",
              "        [-3.0759192e-01],\n",
              "        [-4.6140358e-01],\n",
              "        [ 2.1949004e-01],\n",
              "        [-3.8257477e-01],\n",
              "        [ 2.9337147e-01],\n",
              "        [-8.4780276e-02],\n",
              "        [-8.2139321e-02],\n",
              "        [-1.3673478e-01],\n",
              "        [-4.1681555e-01],\n",
              "        [-1.6323090e-01],\n",
              "        [ 4.7061895e-04],\n",
              "        [-1.6040391e-01],\n",
              "        [ 4.3813983e-01],\n",
              "        [ 4.9882736e-02],\n",
              "        [ 3.9127672e-01],\n",
              "        [ 3.1741571e-02],\n",
              "        [-1.0081219e-01],\n",
              "        [-2.3486257e-01],\n",
              "        [-1.4863563e-01],\n",
              "        [-2.9976031e-01],\n",
              "        [ 1.8740289e-01],\n",
              "        [-2.3343280e-01],\n",
              "        [ 1.7598660e-01],\n",
              "        [ 2.0151399e-01],\n",
              "        [ 1.3232224e-01],\n",
              "        [ 1.1133055e-01],\n",
              "        [ 1.4538921e-01],\n",
              "        [ 1.0901651e-02],\n",
              "        [ 2.6609614e-01],\n",
              "        [-4.3400323e-01],\n",
              "        [ 1.9456522e-01],\n",
              "        [-4.3137234e-01],\n",
              "        [-1.8778451e-01],\n",
              "        [ 1.3125490e-01],\n",
              "        [-2.2616492e-01],\n",
              "        [ 4.8597801e-01],\n",
              "        [-1.4241359e-01],\n",
              "        [ 3.4873083e-01],\n",
              "        [ 1.0945510e-01],\n",
              "        [-1.9137438e-01],\n",
              "        [-3.9188376e-01],\n",
              "        [-2.3315534e-01],\n",
              "        [-2.9939285e-01]], dtype=float32)>,\n",
              " <tf.Variable 'dense_1/bias:0' shape=(1,) dtype=float32, numpy=array([0.01240425], dtype=float32)>]"
            ]
          },
          "metadata": {
            "tags": []
          },
          "execution_count": 11
        }
      ]
    },
    {
      "cell_type": "code",
      "metadata": {
        "colab": {
          "base_uri": "https://localhost:8080/"
        },
        "id": "hGtf3WgI4sPA",
        "outputId": "8bde9322-3838-49ab-ec10-e1cd1c5b1293"
      },
      "source": [
        "history_single_rnn=single_rnn_model.fit(\n",
        "    train_data,train_labels,\n",
        "    epochs=30,\n",
        "    batch_size=batch_size,\n",
        "    validation_split=0.2\n",
        ")"
      ],
      "execution_count": 10,
      "outputs": [
        {
          "output_type": "stream",
          "text": [
            "Epoch 1/30\n",
            "40/40 [==============================] - 21s 448ms/step - loss: 0.6938 - accuracy: 0.5044 - val_loss: 0.6939 - val_accuracy: 0.4912\n",
            "Epoch 2/30\n",
            "40/40 [==============================] - 17s 437ms/step - loss: 0.6917 - accuracy: 0.5101 - val_loss: 0.6944 - val_accuracy: 0.4930\n",
            "Epoch 3/30\n",
            "40/40 [==============================] - 17s 434ms/step - loss: 0.6919 - accuracy: 0.5120 - val_loss: 0.6926 - val_accuracy: 0.5224\n",
            "Epoch 4/30\n",
            "40/40 [==============================] - 18s 449ms/step - loss: 0.6900 - accuracy: 0.5160 - val_loss: 0.6946 - val_accuracy: 0.5010\n",
            "Epoch 5/30\n",
            "40/40 [==============================] - 18s 452ms/step - loss: 0.6849 - accuracy: 0.5296 - val_loss: 0.6944 - val_accuracy: 0.5184\n",
            "Epoch 6/30\n",
            "40/40 [==============================] - 17s 437ms/step - loss: 0.6872 - accuracy: 0.5126 - val_loss: 0.6924 - val_accuracy: 0.5082\n",
            "Epoch 7/30\n",
            "40/40 [==============================] - 18s 450ms/step - loss: 0.6827 - accuracy: 0.5262 - val_loss: 0.6945 - val_accuracy: 0.5098\n",
            "Epoch 8/30\n",
            "40/40 [==============================] - 18s 452ms/step - loss: 0.6693 - accuracy: 0.5407 - val_loss: 0.6979 - val_accuracy: 0.5074\n",
            "Epoch 9/30\n",
            "40/40 [==============================] - 17s 424ms/step - loss: 0.6511 - accuracy: 0.5515 - val_loss: 0.7105 - val_accuracy: 0.5046\n",
            "Epoch 10/30\n",
            "40/40 [==============================] - 17s 420ms/step - loss: 0.6387 - accuracy: 0.5465 - val_loss: 0.7253 - val_accuracy: 0.5048\n",
            "Epoch 11/30\n",
            "40/40 [==============================] - 17s 422ms/step - loss: 0.6292 - accuracy: 0.5529 - val_loss: 0.7539 - val_accuracy: 0.5052\n",
            "Epoch 12/30\n",
            "40/40 [==============================] - 17s 429ms/step - loss: 0.6309 - accuracy: 0.5513 - val_loss: 0.7155 - val_accuracy: 0.5064\n",
            "Epoch 13/30\n",
            "40/40 [==============================] - 18s 442ms/step - loss: 0.7790 - accuracy: 0.5194 - val_loss: 0.7241 - val_accuracy: 0.5098\n",
            "Epoch 14/30\n",
            "40/40 [==============================] - 18s 438ms/step - loss: 0.6895 - accuracy: 0.5216 - val_loss: 0.6927 - val_accuracy: 0.4982\n",
            "Epoch 15/30\n",
            "40/40 [==============================] - 18s 445ms/step - loss: 0.6737 - accuracy: 0.5289 - val_loss: 0.6966 - val_accuracy: 0.4990\n",
            "Epoch 16/30\n",
            "40/40 [==============================] - 17s 435ms/step - loss: 0.6646 - accuracy: 0.5384 - val_loss: 0.6996 - val_accuracy: 0.5118\n",
            "Epoch 17/30\n",
            "40/40 [==============================] - 16s 406ms/step - loss: 0.6977 - accuracy: 0.5415 - val_loss: 0.7153 - val_accuracy: 0.5018\n",
            "Epoch 18/30\n",
            "40/40 [==============================] - 18s 446ms/step - loss: 0.8005 - accuracy: 0.5101 - val_loss: 0.7045 - val_accuracy: 0.4960\n",
            "Epoch 19/30\n",
            "40/40 [==============================] - 18s 444ms/step - loss: 0.7735 - accuracy: 0.5108 - val_loss: 0.7103 - val_accuracy: 0.4974\n",
            "Epoch 20/30\n",
            "40/40 [==============================] - 17s 430ms/step - loss: 0.7583 - accuracy: 0.5147 - val_loss: 0.6955 - val_accuracy: 0.5000\n",
            "Epoch 21/30\n",
            "40/40 [==============================] - 17s 439ms/step - loss: 0.7065 - accuracy: 0.5095 - val_loss: 0.6935 - val_accuracy: 0.4946\n",
            "Epoch 22/30\n",
            "40/40 [==============================] - 17s 415ms/step - loss: 0.6901 - accuracy: 0.5223 - val_loss: 0.6931 - val_accuracy: 0.4962\n",
            "Epoch 23/30\n",
            "40/40 [==============================] - 17s 415ms/step - loss: 0.6899 - accuracy: 0.5208 - val_loss: 0.6930 - val_accuracy: 0.5104\n",
            "Epoch 24/30\n",
            "40/40 [==============================] - 16s 406ms/step - loss: 0.6897 - accuracy: 0.5180 - val_loss: 0.6941 - val_accuracy: 0.4950\n",
            "Epoch 25/30\n",
            "40/40 [==============================] - 17s 433ms/step - loss: 0.6901 - accuracy: 0.5088 - val_loss: 0.6928 - val_accuracy: 0.4978\n",
            "Epoch 26/30\n",
            "40/40 [==============================] - 17s 435ms/step - loss: 0.6888 - accuracy: 0.5200 - val_loss: 0.6933 - val_accuracy: 0.4958\n",
            "Epoch 27/30\n",
            "40/40 [==============================] - 18s 444ms/step - loss: 0.6895 - accuracy: 0.5100 - val_loss: 0.6926 - val_accuracy: 0.5110\n",
            "Epoch 28/30\n",
            "40/40 [==============================] - 17s 438ms/step - loss: 0.6883 - accuracy: 0.5261 - val_loss: 0.6927 - val_accuracy: 0.4964\n",
            "Epoch 29/30\n",
            "40/40 [==============================] - 17s 422ms/step - loss: 0.6877 - accuracy: 0.5250 - val_loss: 0.6926 - val_accuracy: 0.5098\n",
            "Epoch 30/30\n",
            "40/40 [==============================] - 16s 404ms/step - loss: 0.6879 - accuracy: 0.5250 - val_loss: 0.6933 - val_accuracy: 0.5116\n"
          ],
          "name": "stdout"
        }
      ]
    },
    {
      "cell_type": "code",
      "metadata": {
        "colab": {
          "base_uri": "https://localhost:8080/",
          "height": 631
        },
        "id": "pWVss-LS_cR5",
        "outputId": "5ef7ea67-a808-4b42-cd4d-32c2d473ae5b"
      },
      "source": [
        "def plot_learning_curves(history,label,epochs,min_value,max_value):\n",
        "  data={}\n",
        "  data[label]=history.history[label]\n",
        "  data['val_'+label]=history.history['val_'+label]\n",
        "  pd.DataFrame(data).plot(figsize=(8,5))\n",
        "  plt.grid(True)\n",
        "  plt.axis([0,epochs,min_value,max_value])\n",
        "  plt.show()\n",
        "\n",
        "\n",
        "# 训练集、验证集上的准确率\n",
        "plot_learning_curves(history_single_rnn,'accuracy',30,0,1)\n",
        "# 训练集、验证集上的损失\n",
        "plot_learning_curves(history_single_rnn,'loss',30,0,1)"
      ],
      "execution_count": 12,
      "outputs": [
        {
          "output_type": "display_data",
          "data": {
            "image/png": "[encoded data removed]",
            "text/plain": [
              "<Figure size 576x360 with 1 Axes>"
            ]
          },
          "metadata": {
            "tags": [],
            "needs_background": "light"
          }
        },
        {
          "output_type": "display_data",
          "data": {
            "image/png": "[encoded data removed]",
            "text/plain": [
              "<Figure size 576x360 with 1 Axes>"
            ]
          },
          "metadata": {
            "tags": [],
            "needs_background": "light"
          }
        }
      ]
    },
    {
      "cell_type": "code",
      "metadata": {
        "colab": {
          "base_uri": "https://localhost:8080/"
        },
        "id": "uk0tS54fAeUc",
        "outputId": "79aa7737-76b0-4ae8-be09-4deae63ddbf9"
      },
      "source": [
        "single_rnn_model.evaluate(\n",
        "    test_data,test_labels,\n",
        "    batch_size=batch_size,\n",
        "    verbose=0\n",
        ")"
      ],
      "execution_count": 13,
      "outputs": [
        {
          "output_type": "execute_result",
          "data": {
            "text/plain": [
              "[0.6937745809555054, 0.5047600269317627]"
            ]
          },
          "metadata": {
            "tags": []
          },
          "execution_count": 13
        }
      ]
    },
    {
      "cell_type": "markdown",
      "metadata": {
        "id": "IkQeypUJBZNW"
      },
      "source": [
        "损失接近70%，准确率是50%—单向RNN没啥用"
      ]
    },
    {
      "cell_type": "code",
      "metadata": {
        "colab": {
          "base_uri": "https://localhost:8080/"
        },
        "id": "l2t1DsPCBfbd",
        "outputId": "8d8a59a9-2094-47a7-efd2-01c5014111d2"
      },
      "source": [
        "!nvidia-smi"
      ],
      "execution_count": 14,
      "outputs": [
        {
          "output_type": "stream",
          "text": [
            "Wed Mar  3 07:44:42 2021       \n",
            "+-----------------------------------------------------------------------------+\n",
            "| NVIDIA-SMI 460.39       Driver Version: 460.32.03    CUDA Version: 11.2     |\n",
            "|-------------------------------+----------------------+----------------------+\n",
            "| GPU  Name        Persistence-M| Bus-Id        Disp.A | Volatile Uncorr. ECC |\n",
            "| Fan  Temp  Perf  Pwr:Usage/Cap|         Memory-Usage | GPU-Util  Compute M. |\n",
            "|                               |                      |               MIG M. |\n",
            "|===============================+======================+======================|\n",
            "|   0  Tesla T4            Off  | 00000000:00:04.0 Off |                    0 |\n",
            "| N/A   48C    P0    28W /  70W |    640MiB / 15109MiB |      0%      Default |\n",
            "|                               |                      |                  N/A |\n",
            "+-------------------------------+----------------------+----------------------+\n",
            "                                                                               \n",
            "+-----------------------------------------------------------------------------+\n",
            "| Processes:                                                                  |\n",
            "|  GPU   GI   CI        PID   Type   Process name                  GPU Memory |\n",
            "|        ID   ID                                                   Usage      |\n",
            "|=============================================================================|\n",
            "+-----------------------------------------------------------------------------+\n"
          ],
          "name": "stdout"
        }
      ]
    },
    {
      "cell_type": "code",
      "metadata": {
        "colab": {
          "base_uri": "https://localhost:8080/"
        },
        "id": "aIhZhPOHD5n9",
        "outputId": "a9f1872f-ec83-4fdf-fa76-0b4073779dc8"
      },
      "source": [
        "# 改成双向RNN\n",
        "\n",
        "embedding_dim=16\n",
        "batch_size=512\n",
        "\n",
        "model=keras.models.Sequential([\n",
        "             keras.layers.Embedding(vocab_size,embedding_dim,input_length=max_length),\n",
        "            #  增加数据，2层双向RNN\n",
        "             keras.layers.Bidirectional(keras.layers.SimpleRNN(units=64,return_sequences=True)),\n",
        "             keras.layers.Bidirectional(keras.layers.SimpleRNN(units=64,return_sequences=False)),\n",
        "             keras.layers.Dense(64,activation='relu'),\n",
        "             keras.layers.Dense(1,activation='sigmoid'),\n",
        "             ])\n",
        "\n",
        "model.summary()\n",
        "model.compile(optimizer='adam',\n",
        "              loss='binary_crossentropy',\n",
        "              metrics=['accuracy'])"
      ],
      "execution_count": 16,
      "outputs": [
        {
          "output_type": "stream",
          "text": [
            "Model: \"sequential_1\"\n",
            "_________________________________________________________________\n",
            "Layer (type)                 Output Shape              Param #   \n",
            "=================================================================\n",
            "embedding_2 (Embedding)      (None, 500, 16)           160000    \n",
            "_________________________________________________________________\n",
            "bidirectional_1 (Bidirection (None, 500, 128)          10368     \n",
            "_________________________________________________________________\n",
            "bidirectional_2 (Bidirection (None, 128)               24704     \n",
            "_________________________________________________________________\n",
            "dense_2 (Dense)              (None, 64)                8256      \n",
            "_________________________________________________________________\n",
            "dense_3 (Dense)              (None, 1)                 65        \n",
            "=================================================================\n",
            "Total params: 203,393\n",
            "Trainable params: 203,393\n",
            "Non-trainable params: 0\n",
            "_________________________________________________________________\n"
          ],
          "name": "stdout"
        }
      ]
    },
    {
      "cell_type": "code",
      "metadata": {
        "colab": {
          "base_uri": "https://localhost:8080/"
        },
        "id": "Ubqw9Q0aFuD4",
        "outputId": "dedbce26-5e9c-42bc-f92d-23c57f804ece"
      },
      "source": [
        "history=model.fit(train_data,train_labels,epochs=30,batch_size=batch_size,validation_split=0.2)"
      ],
      "execution_count": 17,
      "outputs": [
        {
          "output_type": "stream",
          "text": [
            "Epoch 1/30\n",
            "40/40 [==============================] - 61s 1s/step - loss: 0.6986 - accuracy: 0.5030 - val_loss: 0.6965 - val_accuracy: 0.5014\n",
            "Epoch 2/30\n",
            "40/40 [==============================] - 55s 1s/step - loss: 0.6937 - accuracy: 0.5159 - val_loss: 0.6946 - val_accuracy: 0.4954\n",
            "Epoch 3/30\n",
            "40/40 [==============================] - 55s 1s/step - loss: 0.6842 - accuracy: 0.5560 - val_loss: 0.7184 - val_accuracy: 0.5306\n",
            "Epoch 4/30\n",
            "40/40 [==============================] - 54s 1s/step - loss: 0.6134 - accuracy: 0.6586 - val_loss: 0.5986 - val_accuracy: 0.6950\n",
            "Epoch 5/30\n",
            "40/40 [==============================] - 56s 1s/step - loss: 0.3983 - accuracy: 0.8259 - val_loss: 0.5444 - val_accuracy: 0.7710\n",
            "Epoch 6/30\n",
            "40/40 [==============================] - 56s 1s/step - loss: 0.1960 - accuracy: 0.9250 - val_loss: 0.6676 - val_accuracy: 0.7580\n",
            "Epoch 7/30\n",
            "40/40 [==============================] - 55s 1s/step - loss: 0.0926 - accuracy: 0.9695 - val_loss: 0.8361 - val_accuracy: 0.7524\n",
            "Epoch 8/30\n",
            "40/40 [==============================] - 55s 1s/step - loss: 0.0339 - accuracy: 0.9927 - val_loss: 1.0839 - val_accuracy: 0.7260\n",
            "Epoch 9/30\n",
            "40/40 [==============================] - 54s 1s/step - loss: 0.0296 - accuracy: 0.9905 - val_loss: 1.0374 - val_accuracy: 0.7762\n",
            "Epoch 10/30\n",
            "40/40 [==============================] - 55s 1s/step - loss: 0.0102 - accuracy: 0.9975 - val_loss: 1.2244 - val_accuracy: 0.7468\n",
            "Epoch 11/30\n",
            "40/40 [==============================] - 55s 1s/step - loss: 0.0035 - accuracy: 0.9997 - val_loss: 1.2103 - val_accuracy: 0.7656\n",
            "Epoch 12/30\n",
            "40/40 [==============================] - 56s 1s/step - loss: 0.0016 - accuracy: 0.9999 - val_loss: 1.2534 - val_accuracy: 0.7682\n",
            "Epoch 13/30\n",
            "40/40 [==============================] - 55s 1s/step - loss: 0.0025 - accuracy: 0.9998 - val_loss: 1.2446 - val_accuracy: 0.7734\n",
            "Epoch 14/30\n",
            "40/40 [==============================] - 58s 1s/step - loss: 0.0012 - accuracy: 0.9999 - val_loss: 1.2917 - val_accuracy: 0.7676\n",
            "Epoch 15/30\n",
            "40/40 [==============================] - 56s 1s/step - loss: 8.5869e-04 - accuracy: 0.9999 - val_loss: 1.3163 - val_accuracy: 0.7674\n",
            "Epoch 16/30\n",
            "40/40 [==============================] - 55s 1s/step - loss: 6.8721e-04 - accuracy: 0.9999 - val_loss: 1.2992 - val_accuracy: 0.7780\n",
            "Epoch 17/30\n",
            "40/40 [==============================] - 55s 1s/step - loss: 1.9671e-04 - accuracy: 1.0000 - val_loss: 1.3323 - val_accuracy: 0.7774\n",
            "Epoch 18/30\n",
            "40/40 [==============================] - 55s 1s/step - loss: 1.4883e-04 - accuracy: 1.0000 - val_loss: 1.3516 - val_accuracy: 0.7788\n",
            "Epoch 19/30\n",
            "40/40 [==============================] - 57s 1s/step - loss: 1.2549e-04 - accuracy: 1.0000 - val_loss: 1.3661 - val_accuracy: 0.7794\n",
            "Epoch 20/30\n",
            "40/40 [==============================] - 57s 1s/step - loss: 1.1140e-04 - accuracy: 1.0000 - val_loss: 1.3825 - val_accuracy: 0.7800\n",
            "Epoch 21/30\n",
            "40/40 [==============================] - 56s 1s/step - loss: 9.4509e-05 - accuracy: 1.0000 - val_loss: 1.3996 - val_accuracy: 0.7798\n",
            "Epoch 22/30\n",
            "40/40 [==============================] - 57s 1s/step - loss: 8.3431e-05 - accuracy: 1.0000 - val_loss: 1.4155 - val_accuracy: 0.7804\n",
            "Epoch 23/30\n",
            "40/40 [==============================] - 55s 1s/step - loss: 7.0366e-05 - accuracy: 1.0000 - val_loss: 1.4321 - val_accuracy: 0.7802\n",
            "Epoch 24/30\n",
            "40/40 [==============================] - 57s 1s/step - loss: 6.6412e-05 - accuracy: 1.0000 - val_loss: 1.4438 - val_accuracy: 0.7806\n",
            "Epoch 25/30\n",
            "40/40 [==============================] - 54s 1s/step - loss: 5.8451e-05 - accuracy: 1.0000 - val_loss: 1.4564 - val_accuracy: 0.7796\n",
            "Epoch 26/30\n",
            "40/40 [==============================] - 54s 1s/step - loss: 5.2507e-05 - accuracy: 1.0000 - val_loss: 1.4684 - val_accuracy: 0.7802\n",
            "Epoch 27/30\n",
            "40/40 [==============================] - 54s 1s/step - loss: 4.7378e-05 - accuracy: 1.0000 - val_loss: 1.4793 - val_accuracy: 0.7804\n",
            "Epoch 28/30\n",
            "40/40 [==============================] - 58s 1s/step - loss: 4.5014e-05 - accuracy: 1.0000 - val_loss: 1.4888 - val_accuracy: 0.7810\n",
            "Epoch 29/30\n",
            "40/40 [==============================] - 57s 1s/step - loss: 3.9382e-05 - accuracy: 1.0000 - val_loss: 1.5020 - val_accuracy: 0.7806\n",
            "Epoch 30/30\n",
            "40/40 [==============================] - 55s 1s/step - loss: 3.7735e-05 - accuracy: 1.0000 - val_loss: 1.5132 - val_accuracy: 0.7798\n"
          ],
          "name": "stdout"
        }
      ]
    },
    {
      "cell_type": "markdown",
      "metadata": {
        "id": "NuzdHMmCHkrY"
      },
      "source": [
        "在训练集上准确率能达到100%，就足够说明模型强大了"
      ]
    },
    {
      "cell_type": "code",
      "metadata": {
        "colab": {
          "base_uri": "https://localhost:8080/",
          "height": 631
        },
        "id": "iMgZmZSMMuly",
        "outputId": "4d3cbac9-2d8b-4a56-a032-f757f13b06f5"
      },
      "source": [
        "plot_learning_curves(history,'accuracy',30,0,1)\n",
        "plot_learning_curves(history,'loss',30,0,4)"
      ],
      "execution_count": 18,
      "outputs": [
        {
          "output_type": "display_data",
          "data": {
            "image/png": "[encoded data removed]",
            "text/plain": [
              "<Figure size 576x360 with 1 Axes>"
            ]
          },
          "metadata": {
            "tags": [],
            "needs_background": "light"
          }
        },
        {
          "output_type": "display_data",
          "data": {
            "image/png": "[encoded data removed]",
            "text/plain": [
              "<Figure size 576x360 with 1 Axes>"
            ]
          },
          "metadata": {
            "tags": [],
            "needs_background": "light"
          }
        }
      ]
    },
    {
      "cell_type": "markdown",
      "metadata": {
        "id": "QVtVtDxINCW1"
      },
      "source": [
        "过拟合了，可能是模型太复杂，改为单层的RNN"
      ]
    },
    {
      "cell_type": "code",
      "metadata": {
        "colab": {
          "base_uri": "https://localhost:8080/"
        },
        "id": "AktSUXb2NM65",
        "outputId": "615f3405-498a-49e7-944d-0f22d3083334"
      },
      "source": [
        "# 改成双向RNN\n",
        "\n",
        "embedding_dim=16\n",
        "batch_size=512\n",
        "\n",
        "model=keras.models.Sequential([\n",
        "             keras.layers.Embedding(vocab_size,embedding_dim,input_length=max_length),\n",
        "            #  增加数据，2层双向RNN\n",
        "             keras.layers.Bidirectional(keras.layers.SimpleRNN(units=64,return_sequences=True)),\n",
        "            #  keras.layers.Bidirectional(keras.layers.SimpleRNN(units=64,return_sequences=False)),\n",
        "             keras.layers.Dense(64,activation='relu'),\n",
        "             keras.layers.Dense(1,activation='sigmoid'),\n",
        "             ])\n",
        "\n",
        "model.summary()\n",
        "model.compile(optimizer='adam',\n",
        "              loss='binary_crossentropy',\n",
        "              metrics=['accuracy'])"
      ],
      "execution_count": 19,
      "outputs": [
        {
          "output_type": "stream",
          "text": [
            "Model: \"sequential_2\"\n",
            "_________________________________________________________________\n",
            "Layer (type)                 Output Shape              Param #   \n",
            "=================================================================\n",
            "embedding_3 (Embedding)      (None, 500, 16)           160000    \n",
            "_________________________________________________________________\n",
            "bidirectional_3 (Bidirection (None, 500, 128)          10368     \n",
            "_________________________________________________________________\n",
            "dense_4 (Dense)              (None, 500, 64)           8256      \n",
            "_________________________________________________________________\n",
            "dense_5 (Dense)              (None, 500, 1)            65        \n",
            "=================================================================\n",
            "Total params: 178,689\n",
            "Trainable params: 178,689\n",
            "Non-trainable params: 0\n",
            "_________________________________________________________________\n"
          ],
          "name": "stdout"
        }
      ]
    },
    {
      "cell_type": "code",
      "metadata": {
        "colab": {
          "base_uri": "https://localhost:8080/"
        },
        "id": "bfeTFapXNZ-b",
        "outputId": "094f86f8-21bb-498b-8fa5-ccd3d8a952ca"
      },
      "source": [
        "history=model.fit(train_data,train_labels,epochs=30,batch_size=batch_size,validation_split=0.2)"
      ],
      "execution_count": 20,
      "outputs": [
        {
          "output_type": "stream",
          "text": [
            "Epoch 1/30\n",
            "40/40 [==============================] - 30s 726ms/step - loss: 0.6948 - accuracy: 0.5064 - val_loss: 0.6934 - val_accuracy: 0.5030\n",
            "Epoch 2/30\n",
            "40/40 [==============================] - 29s 732ms/step - loss: 0.6930 - accuracy: 0.5058 - val_loss: 0.6830 - val_accuracy: 0.5543\n",
            "Epoch 3/30\n",
            "40/40 [==============================] - 28s 694ms/step - loss: 0.6894 - accuracy: 0.5357 - val_loss: 0.6625 - val_accuracy: 0.5921\n",
            "Epoch 4/30\n",
            "40/40 [==============================] - 29s 731ms/step - loss: 0.6465 - accuracy: 0.6271 - val_loss: 0.6418 - val_accuracy: 0.6366\n",
            "Epoch 5/30\n",
            "40/40 [==============================] - 29s 725ms/step - loss: 0.5944 - accuracy: 0.7007 - val_loss: 0.6266 - val_accuracy: 0.6186\n",
            "Epoch 6/30\n",
            "40/40 [==============================] - 29s 732ms/step - loss: 0.6086 - accuracy: 0.6213 - val_loss: 0.6170 - val_accuracy: 0.6129\n",
            "Epoch 7/30\n",
            "40/40 [==============================] - 27s 686ms/step - loss: 0.5848 - accuracy: 0.6374 - val_loss: 0.6618 - val_accuracy: 0.6755\n",
            "Epoch 8/30\n",
            "40/40 [==============================] - 29s 730ms/step - loss: 0.5808 - accuracy: 0.6966 - val_loss: 0.5722 - val_accuracy: 0.7078\n",
            "Epoch 9/30\n",
            "40/40 [==============================] - 29s 717ms/step - loss: 0.5347 - accuracy: 0.7375 - val_loss: 0.5483 - val_accuracy: 0.7361\n",
            "Epoch 10/30\n",
            "40/40 [==============================] - 29s 724ms/step - loss: 0.4707 - accuracy: 0.7975 - val_loss: 0.5857 - val_accuracy: 0.7048\n",
            "Epoch 11/30\n",
            "40/40 [==============================] - 29s 714ms/step - loss: 0.5629 - accuracy: 0.6980 - val_loss: 0.5961 - val_accuracy: 0.6664\n",
            "Epoch 12/30\n",
            "40/40 [==============================] - 29s 715ms/step - loss: 0.5404 - accuracy: 0.7091 - val_loss: 0.5818 - val_accuracy: 0.6763\n",
            "Epoch 13/30\n",
            "40/40 [==============================] - 29s 720ms/step - loss: 0.5502 - accuracy: 0.6918 - val_loss: 0.6477 - val_accuracy: 0.5884\n",
            "Epoch 14/30\n",
            "40/40 [==============================] - 30s 745ms/step - loss: 0.6304 - accuracy: 0.6260 - val_loss: 0.6189 - val_accuracy: 0.6429\n",
            "Epoch 15/30\n",
            "40/40 [==============================] - 28s 691ms/step - loss: 0.5993 - accuracy: 0.6607 - val_loss: 0.6244 - val_accuracy: 0.6172\n",
            "Epoch 16/30\n",
            "40/40 [==============================] - 29s 713ms/step - loss: 0.5395 - accuracy: 0.6871 - val_loss: 0.5744 - val_accuracy: 0.6880\n",
            "Epoch 17/30\n",
            "40/40 [==============================] - 28s 707ms/step - loss: 0.5470 - accuracy: 0.6987 - val_loss: 0.5995 - val_accuracy: 0.6617\n",
            "Epoch 18/30\n",
            "40/40 [==============================] - 29s 730ms/step - loss: 0.5438 - accuracy: 0.7027 - val_loss: 0.6158 - val_accuracy: 0.6198\n",
            "Epoch 19/30\n",
            "40/40 [==============================] - 28s 693ms/step - loss: 0.5387 - accuracy: 0.6877 - val_loss: 0.5753 - val_accuracy: 0.6984\n",
            "Epoch 20/30\n",
            "40/40 [==============================] - 28s 714ms/step - loss: 0.4893 - accuracy: 0.7547 - val_loss: 0.5092 - val_accuracy: 0.7574\n",
            "Epoch 21/30\n",
            "40/40 [==============================] - 28s 703ms/step - loss: 0.4991 - accuracy: 0.7432 - val_loss: 0.5644 - val_accuracy: 0.7397\n",
            "Epoch 22/30\n",
            "40/40 [==============================] - 28s 709ms/step - loss: 0.5132 - accuracy: 0.7449 - val_loss: 0.6162 - val_accuracy: 0.6200\n",
            "Epoch 23/30\n",
            "40/40 [==============================] - 27s 680ms/step - loss: 0.4625 - accuracy: 0.7778 - val_loss: 0.4480 - val_accuracy: 0.8362\n",
            "Epoch 24/30\n",
            "40/40 [==============================] - 29s 720ms/step - loss: 0.3151 - accuracy: 0.8926 - val_loss: 0.4369 - val_accuracy: 0.8349\n",
            "Epoch 25/30\n",
            "40/40 [==============================] - 28s 695ms/step - loss: 0.3778 - accuracy: 0.8554 - val_loss: 0.5780 - val_accuracy: 0.7188\n",
            "Epoch 26/30\n",
            "40/40 [==============================] - 28s 708ms/step - loss: 0.4861 - accuracy: 0.7694 - val_loss: 0.5820 - val_accuracy: 0.7230\n",
            "Epoch 27/30\n",
            "40/40 [==============================] - 29s 734ms/step - loss: 0.4986 - accuracy: 0.7394 - val_loss: 0.5693 - val_accuracy: 0.6771\n",
            "Epoch 28/30\n",
            "40/40 [==============================] - 28s 701ms/step - loss: 0.4965 - accuracy: 0.7093 - val_loss: 0.5682 - val_accuracy: 0.6723\n",
            "Epoch 29/30\n",
            "40/40 [==============================] - 29s 728ms/step - loss: 0.4891 - accuracy: 0.7163 - val_loss: 0.9096 - val_accuracy: 0.5671\n",
            "Epoch 30/30\n",
            "40/40 [==============================] - 29s 717ms/step - loss: 0.6999 - accuracy: 0.6021 - val_loss: 0.6114 - val_accuracy: 0.6616\n"
          ],
          "name": "stdout"
        }
      ]
    },
    {
      "cell_type": "code",
      "metadata": {
        "colab": {
          "base_uri": "https://localhost:8080/",
          "height": 631
        },
        "id": "7Qn9BGD_RZtT",
        "outputId": "48da0305-ef2b-431f-9bfa-658a7b887862"
      },
      "source": [
        "plot_learning_curves(history,'accuracy',30,0,1)\n",
        "plot_learning_curves(history,'loss',30,0,4)"
      ],
      "execution_count": 21,
      "outputs": [
        {
          "output_type": "display_data",
          "data": {
            "image/png": "[encoded data removed]",
            "text/plain": [
              "<Figure size 576x360 with 1 Axes>"
            ]
          },
          "metadata": {
            "tags": [],
            "needs_background": "light"
          }
        },
        {
          "output_type": "display_data",
          "data": {
            "image/png": "[encoded data removed]",
            "text/plain": [
              "<Figure size 576x360 with 1 Axes>"
            ]
          },
          "metadata": {
            "tags": [],
            "needs_background": "light"
          }
        }
      ]
    },
    {
      "cell_type": "code",
      "metadata": {
        "colab": {
          "base_uri": "https://localhost:8080/"
        },
        "id": "yQQrVqOnRi6J",
        "outputId": "4eac8991-a4a8-433d-a535-f29d8d0b2be3"
      },
      "source": [
        "model.evaluate(test_data,test_labels,batch_size=batch_size,verbose=0)"
      ],
      "execution_count": 22,
      "outputs": [
        {
          "output_type": "execute_result",
          "data": {
            "text/plain": [
              "[0.6199244856834412, 0.6565762758255005]"
            ]
          },
          "metadata": {
            "tags": []
          },
          "execution_count": 22
        }
      ]
    },
    {
      "cell_type": "markdown",
      "metadata": {
        "id": "jSrpmaoqRyrZ"
      },
      "source": [
        "与单层RNN相比loss减少，accuracy上升，效果变好；但是仍然是过拟合的，可以看作模型强大"
      ]
    }
  ]
}